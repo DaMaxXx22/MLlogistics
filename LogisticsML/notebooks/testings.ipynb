{
 "cells": [
  {
   "cell_type": "code",
   "execution_count": 21,
   "id": "3994b73e-1840-4425-85b0-3053fff6aed7",
   "metadata": {},
   "source": [
    "import pandas as pd\n",
    "import numpy as np\n",
    "import plotly.express as px\n",
    "import os\n",
    "from IPython.display import display as dp\n",
    "import sys\n",
    "sys.path.append(os.path.abspath(\"..\"))  \n",
    "from config.db import get_table_entregas"
   ],
   "outputs": []
  },
  {
   "cell_type": "code",
   "execution_count": 22,
   "id": "f1990459-b730-4e3f-9c9d-d94b6ea04dad",
   "metadata": {},
   "source": [
    "df=get_table_entregas()"
   ],
   "outputs": []
  },
  {
   "cell_type": "code",
   "execution_count": 23,
   "id": "4df03796-fbaf-4c36-a984-5158f648cccc",
   "metadata": {},
   "source": [
    "dp(df.head())"
   ],
   "outputs": []
  },
  {
   "cell_type": "markdown",
   "id": "d1418c03-6022-497d-a515-661d2e35fce4",
   "metadata": {},
   "source": [
    "from sklearn.model_selection import train_test_split\n",
    "from sklearn.ensemble import RandomForestRegressor\n",
    "from sklearn.metrics import mean_absolute_error\n",
    "import joblib\n",
    "\n",
    "# 1. Preprocesamiento (convertir categorías a variables dummy)\n",
    "X = pd.get_dummies(df.drop(columns=[\"id\", \"tiempo_entrega_dias\"]))\n",
    "y = df[\"tiempo_entrega_dias\"]\n",
    "\n",
    "# 2. Dividir en entrenamiento y prueba\n",
    "X_train, X_test, y_train, y_test = train_test_split(X, y, test_size=0.2, random_state=42)\n"
   ]
  },
  {
   "cell_type": "code",
   "execution_count": 24,
   "id": "9af040b2-7fe7-4822-ad0d-e008742f77c0",
   "metadata": {},
   "source": [
    "from sklearn.model_selection import train_test_split\n",
    "from sklearn.ensemble import RandomForestRegressor\n",
    "from sklearn.metrics import mean_absolute_error\n",
    "import joblib"
   ],
   "outputs": []
  },
  {
   "cell_type": "code",
   "execution_count": 25,
   "id": "9324610e-15ac-4ed2-85de-2442de8b0aa1",
   "metadata": {},
   "source": [
    "X= pd.get_dummies(df.drop(columns=['id','tiempo_entrega_dias']))\n",
    "y=df['tiempo_entrega_dias']\n",
    "\n",
    "X_train, X_test, y_train, y_test= train_test_split(X, y, test_size=0.2, random_state=42)#el 42 es un numero neutral pero puede ser cualquier otro numero"
   ],
   "outputs": []
  },
  {
   "cell_type": "markdown",
   "id": "0c4bd33f-024a-4935-8902-fa1f1ca182ba",
   "metadata": {},
   "source": [
    "# 3. Entrenar un modelo Random Forest\n",
    "model = RandomForestRegressor(n_estimators=100, random_state=42)\n",
    "model.fit(X_train, y_train)\n"
   ]
  },
  {
   "cell_type": "code",
   "execution_count": 26,
   "id": "91bd763d-6a06-441b-8c6e-d756eab09ffa",
   "metadata": {},
   "source": [
    "model = RandomForestRegressor(n_estimators=100, random_state=42)\n",
    "model.fit(X_train, y_train)"
   ],
   "outputs": []
  },
  {
   "cell_type": "markdown",
   "id": "7760d71d-9976-4a6f-ba43-d7398826a8a1",
   "metadata": {},
   "source": [
    "# 4. Hacer predicciones y evaluar\n",
    "y_pred = model.predict(X_test)\n",
    "mae = mean_absolute_error(y_test, y_pred)\n",
    "print(f\"MAE: {mae:.2f} días\")"
   ]
  },
  {
   "cell_type": "code",
   "execution_count": 27,
   "id": "c45f645a-dbd1-45c1-bc06-af3251a42f43",
   "metadata": {},
   "source": [
    "y_pred = model.predict(X_test)\n",
    "mae= mean_absolute_error(y_test, y_pred)\n",
    "print(f'Error Absoluto Promedio (MAE): {mae:.2f} dias')"
   ],
   "outputs": []
  },
  {
   "cell_type": "markdown",
   "id": "582431e8-a419-4053-b1b4-4389a2930d8e",
   "metadata": {},
   "source": [
    "# 5. Guardar modelo como archivo .pkl en /models\n",
    "joblib.dump(model, \"../models/modelo_entrega.pkl\")\n",
    "print(\"✅ Modelo guardado como modelo_entrega.pkl\")"
   ]
  },
  {
   "cell_type": "code",
   "execution_count": 28,
   "id": "ee154cd2-876c-4f6f-9da6-a79fafe862c1",
   "metadata": {},
   "source": [
    "joblib.dump(model, \"../models/delivery_model.pkl\")\n",
    "print(\"✅ Modelo guardado como delivery_model.pkl\")"
   ],
   "outputs": []
  },
  {
   "cell_type": "markdown",
   "id": "772b26f4-7f4a-4b93-a992-d05118f65e13",
   "metadata": {},
   "source": [
    "# 6. Crear una muestra de predicción\n",
    "nueva_entrada = pd.DataFrame([{\n",
    "    \"distancia_km\": 75,\n",
    "    \"clima\": \"lluvia\",\n",
    "    \"proveedor\": \"C\"\n",
    "}])\n",
    "\n",
    "# 7. Codificar igual que en entrenamiento\n",
    "entrada_procesada = pd.get_dummies(nueva_entrada)\n",
    "entrada_procesada = entrada_procesada.reindex(columns=X.columns, fill_value=0)\n",
    "\n",
    "# 8. Cargar modelo y predecir\n",
    "modelo_cargado = joblib.load(\"../models/modelo_entrega.pkl\")\n",
    "prediccion = modelo_cargado.predict(entrada_procesada)\n",
    "print(f\"Predicción: {prediccion[0]:.2f} días\")"
   ]
  },
  {
   "cell_type": "code",
   "execution_count": 29,
   "id": "0d8a64a4-783c-48ca-b1c9-8be00eb3fcd9",
   "metadata": {},
   "source": [
    "ni=pd.DataFrame([{\n",
    "    'distancia_km':75,\n",
    "    \"clima\":'lluvia',\n",
    "    \"proveedor\": 'C'\n",
    "}])\n",
    "\n",
    "input_processed = pd.get_dummies(ni)\n",
    "input_processed = input_processed.reindex(columns=X.columns, fill_value=0)\n",
    "\n",
    "charged_model=joblib.load(\"../models/delivery_model.pkl\")\n",
    "prediction= charged_model.predict(input_processed)\n",
    "print(f\"Prediccion: {prediction[0]:.2f} dias\")"
   ],
   "outputs": []
  },
  {
   "cell_type": "code",
   "execution_count": 30,
   "id": "e44835e5-c032-44c2-8500-2c9639a6e1f2",
   "metadata": {},
   "source": [
    "from sklearn.metrics import mean_absolute_error, mean_squared_error, r2_score\n",
    "import numpy as np\n",
    "\n",
    "y_pred = model.predict(X_test)\n",
    "\n",
    "mae=mean_absolute_error(y_test, y_pred)\n",
    "mse=mean_squared_error(y_test, y_pred)\n",
    "rmse=np.sqrt(mse)\n",
    "r2=r2_score(y_test,y_pred)\n",
    "\n",
    "\n",
    "print(f\"MAE:  {mae:.2f} días\")\n",
    "print(f\"MSE:  {mse:.2f} dias cuadrados \")\n",
    "print(f\"RMSE: {rmse:.2f} días\")\n",
    "print(f\"R²:   {r2:.4f}\")"
   ],
   "outputs": []
  },
  {
   "cell_type": "code",
   "execution_count": null,
   "id": "b38c294d-eeed-4b10-992c-8023fded844c",
   "metadata": {},
   "source": [
    "\"\"\"\n",
    "📌 ¿Qué significan?\n",
    "MAE bajo → En promedio, el modelo no se equivoca mucho (todos los errores pesan igual).\n",
    "\n",
    "MSE bajo → También indica buen desempeño, pero penaliza más los errores grandes porque eleva al cuadrado cada diferencia.\n",
    "\n",
    "Si MAE y MSE son casi iguales, significa que no hay errores extremos en tus predicciones. ✅\n",
    "\n",
    "RMSE bajo → Es la raíz del MSE, así que se expresa en las mismas unidades (en tu caso, días). Ayuda a interpretar el error en la escala original.\n",
    "\n",
    "R² cercano a 1 → El modelo explica muy bien la variación de los datos. R² = 1 significa predicción perfecta.\n",
    "\n",
    "R² ≈ 0 o negativo → El modelo no está aprendiendo nada útil, y es peor que simplemente predecir el promedio de los datos.\n",
    "\"\"\""
   ],
   "outputs": []
  },
  {
   "cell_type": "code",
   "execution_count": null,
   "id": "b82bbc37-011d-49bc-8da4-99a57bec7bd8",
   "metadata": {},
   "source": [
    "\"\"\"\n",
    "🧠 ¿Por qué el MSE es menor que el MAE aquí?\n",
    "Tal como analizamos antes:\n",
    "\n",
    "Tu modelo tiene errores pequeños\n",
    "\n",
    "Todos los errores están probablemente entre -1 y 1\n",
    "\n",
    "Y cuando elevas al cuadrado fracciones (como 0.3), se hacen aún más pequeñas:\n",
    "\n",
    "(0.3)^2 = 0.09, (0.5)^2 = 0.25 \n",
    "Así que sí: es matemáticamente válido que el MSE te dé menos que el MAE si tus errores están por debajo de 1 en valor absoluto.\n",
    "\n",
    "🎯 Interpretación:\n",
    "Tu modelo:\n",
    "\n",
    "✅ Predice con muy poca desviación (±0.35 días en promedio)\n",
    "✅ Tiene un coeficiente R² > 0.92, lo cual es excelente\n",
    "✅ Es lo suficientemente bueno para pasar a producción\n",
    "\n",
    "\n",
    "\"\"\""
   ],
   "outputs": []
  },
  {
   "cell_type": "code",
   "execution_count": null,
   "id": "1c6e1b89-c1dd-476a-8591-9d007eca7c35",
   "metadata": {},
   "source": [],
   "outputs": []
  }
 ],
 "metadata": {
  "kernelspec": {
   "display_name": "Python 3 (ipykernel)",
   "language": "python",
   "name": "python3"
  },
  "language_info": {
   "codemirror_mode": {
    "name": "ipython",
    "version": 3
   },
   "file_extension": ".py",
   "mimetype": "text/x-python",
   "name": "python",
   "nbconvert_exporter": "python",
   "pygments_lexer": "ipython3",
   "version": "3.12.4"
  }
 },
 "nbformat": 4,
 "nbformat_minor": 5
}
